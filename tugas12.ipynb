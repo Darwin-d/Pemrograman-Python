{
  "nbformat": 4,
  "nbformat_minor": 0,
  "metadata": {
    "colab": {
      "name": "tugas12.ipynb",
      "provenance": [],
      "toc_visible": true,
      "authorship_tag": "ABX9TyNClGnaZowIw6sYtdkLe2vU",
      "include_colab_link": true
    },
    "kernelspec": {
      "name": "python3",
      "display_name": "Python 3"
    }
  },
  "cells": [
    {
      "cell_type": "markdown",
      "metadata": {
        "id": "view-in-github",
        "colab_type": "text"
      },
      "source": [
        "<a href=\"https://colab.research.google.com/github/Darwin-d/Pemrograman-Python/blob/main/tugas12.ipynb\" target=\"_parent\"><img src=\"https://colab.research.google.com/assets/colab-badge.svg\" alt=\"Open In Colab\"/></a>"
      ]
    },
    {
      "cell_type": "code",
      "metadata": {
        "id": "NDL7wbgcHfPb"
      },
      "source": [
        "import numpy as np"
      ],
      "execution_count": 2,
      "outputs": []
    },
    {
      "cell_type": "code",
      "metadata": {
        "id": "AP49SImSHkK6"
      },
      "source": [
        "NtL = lambda x: 10*np.log(10)"
      ],
      "execution_count": 3,
      "outputs": []
    },
    {
      "cell_type": "code",
      "metadata": {
        "id": "2FYXWge6HkTx"
      },
      "source": [
        "LtN = lambda x: 10**(x/10)"
      ],
      "execution_count": 5,
      "outputs": []
    },
    {
      "cell_type": "code",
      "metadata": {
        "id": "Pm71QC1pI49b"
      },
      "source": [
        "def ploss(c1,c2,fc,ht,hr,cm):\r\n",
        "  pldb= c1 + c2*log10(fc) - 13.83*np.log10 (ht) - a(hr) + (44.9 - 6.55*np.log10(ht))*np.log10 (d) + cm\r\n",
        "  plnum=LtN(-pldb)\r\n",
        "  return pldb,plnum"
      ],
      "execution_count": 15,
      "outputs": []
    },
    {
      "cell_type": "code",
      "metadata": {
        "id": "wFdhPYJNUW08"
      },
      "source": [
        "def Prx(d,f,Ptx):\r\n",
        "\r\n",
        "  #fungsi menghitung daya terima, input d(jarak(km))\r\n",
        "  #f(frekuensi(MHz)), dan Ptx(daya pancar (W))\r\n",
        "\r\n",
        "  #mengubah Ptx dari Watt ke dBW\r\n",
        "  Pdb = NtL(Ptx)\r\n",
        "\r\n",
        "  #menghitung pathloss\r\n",
        "  pldb= 32.5 + (20*np.log10(d)) + (20*np.log10(f))\r\n",
        "\r\n",
        "  #hitung prx dalam dB\r\n",
        "  prdb=Pdb-pldb\r\n",
        "\r\n",
        "  #ubah daya terima ke bentuk numerik\r\n",
        "  prx=LtN(prdb)\r\n",
        "\r\n",
        "  return prx,prdb"
      ],
      "execution_count": 16,
      "outputs": []
    },
    {
      "cell_type": "code",
      "metadata": {
        "id": "E_MqorDTUisN"
      },
      "source": [
        ""
      ],
      "execution_count": null,
      "outputs": []
    }
  ]
}