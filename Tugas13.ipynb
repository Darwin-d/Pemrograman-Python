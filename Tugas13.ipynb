{
  "nbformat": 4,
  "nbformat_minor": 0,
  "metadata": {
    "colab": {
      "name": "Tugas13.ipynb",
      "provenance": [],
      "mount_file_id": "1n7PXQfjoXutwL-TImeZWlbLzvLI535Qf",
      "authorship_tag": "ABX9TyOj4RYbz0kB1EBIRE7khBgt",
      "include_colab_link": true
    },
    "kernelspec": {
      "name": "python3",
      "display_name": "Python 3"
    }
  },
  "cells": [
    {
      "cell_type": "markdown",
      "metadata": {
        "id": "view-in-github",
        "colab_type": "text"
      },
      "source": [
        "<a href=\"https://colab.research.google.com/github/Darwin-d/Pemrograman-Python/blob/main/Tugas13.ipynb\" target=\"_parent\"><img src=\"https://colab.research.google.com/assets/colab-badge.svg\" alt=\"Open In Colab\"/></a>"
      ]
    },
    {
      "cell_type": "markdown",
      "metadata": {
        "id": "OzW5YdNYqkTw"
      },
      "source": [
        "---\r\n",
        "# Darwindra\r\n",
        "---\r\n",
        "# 1101181317\r\n",
        "---\r\n",
        "# Python G-3\r\n",
        "---\r\n",
        "## Tugas 13 (Python for Pathloss Simulation)"
      ]
    },
    {
      "cell_type": "code",
      "metadata": {
        "colab": {
          "base_uri": "https://localhost:8080/"
        },
        "id": "i2k9gZfar30-",
        "outputId": "63d0323b-445d-45e3-dc41-f13f9fef8f3d"
      },
      "source": [
        "from google.colab import drive\r\n",
        "drive.mount('/content/drive')"
      ],
      "execution_count": 1,
      "outputs": [
        {
          "output_type": "stream",
          "text": [
            "Drive already mounted at /content/drive; to attempt to forcibly remount, call drive.mount(\"/content/drive\", force_remount=True).\n"
          ],
          "name": "stdout"
        }
      ]
    },
    {
      "cell_type": "markdown",
      "metadata": {
        "id": "d7Jr4DxqxYWS"
      },
      "source": [
        "# **Materi Pertemuan 13**"
      ]
    },
    {
      "cell_type": "code",
      "metadata": {
        "id": "CSeREyNrsN-o"
      },
      "source": [
        "np.zeros(4)"
      ],
      "execution_count": null,
      "outputs": []
    },
    {
      "cell_type": "code",
      "metadata": {
        "id": "FwJ1MfrFsU6W"
      },
      "source": [
        "np.ones(3)"
      ],
      "execution_count": null,
      "outputs": []
    },
    {
      "cell_type": "markdown",
      "metadata": {
        "id": "GVZdvVcqsX6N"
      },
      "source": [
        "(Baris, Kolom)"
      ]
    },
    {
      "cell_type": "code",
      "metadata": {
        "id": "r6bAf2PEsUvt"
      },
      "source": [
        "np.zeros((3,4))"
      ],
      "execution_count": null,
      "outputs": []
    },
    {
      "cell_type": "code",
      "metadata": {
        "id": "oCwGkCnpsUkP"
      },
      "source": [
        "np.ones((5,2))"
      ],
      "execution_count": null,
      "outputs": []
    },
    {
      "cell_type": "code",
      "metadata": {
        "id": "eXOhF8zpshdy"
      },
      "source": [
        "np.arange(10)"
      ],
      "execution_count": null,
      "outputs": []
    },
    {
      "cell_type": "code",
      "metadata": {
        "id": "SeQwhF_OshTJ"
      },
      "source": [
        "np.arange(2,10)"
      ],
      "execution_count": null,
      "outputs": []
    },
    {
      "cell_type": "code",
      "metadata": {
        "id": "hrlaurHysvUK"
      },
      "source": [
        "np.arange(3,47,4)"
      ],
      "execution_count": null,
      "outputs": []
    },
    {
      "cell_type": "markdown",
      "metadata": {
        "id": "bQWAvWLWsyb6"
      },
      "source": [
        "Arange = (Awal, Akhir, Delta)"
      ]
    },
    {
      "cell_type": "code",
      "metadata": {
        "id": "zDGU7VhTsvRi"
      },
      "source": [
        "np.arange(4,5,0.1)"
      ],
      "execution_count": null,
      "outputs": []
    },
    {
      "cell_type": "code",
      "metadata": {
        "id": "NRDQBBFFsvOJ"
      },
      "source": [
        "np.arange(2,-4,-0.5)"
      ],
      "execution_count": null,
      "outputs": []
    },
    {
      "cell_type": "code",
      "metadata": {
        "id": "TlNmajxosvIZ"
      },
      "source": [
        "np.linspace(2,10,4)"
      ],
      "execution_count": null,
      "outputs": []
    },
    {
      "cell_type": "code",
      "metadata": {
        "id": "PDJDm8Kjs_Ua"
      },
      "source": [
        "np.linspace(2,-4,4)"
      ],
      "execution_count": null,
      "outputs": []
    },
    {
      "cell_type": "code",
      "metadata": {
        "id": "ZHgWmCVds_Ri"
      },
      "source": [
        "e=np.arange(0,20,2)"
      ],
      "execution_count": null,
      "outputs": []
    },
    {
      "cell_type": "code",
      "metadata": {
        "id": "eJRDdXqetDl5"
      },
      "source": [
        "len(e)"
      ],
      "execution_count": null,
      "outputs": []
    },
    {
      "cell_type": "code",
      "metadata": {
        "id": "SRfRk7x7tDfa"
      },
      "source": [
        "e.reshape(5,2)"
      ],
      "execution_count": null,
      "outputs": []
    },
    {
      "cell_type": "code",
      "metadata": {
        "id": "IK3gRWjFtHrO"
      },
      "source": [
        "e.reshape(2,5)"
      ],
      "execution_count": null,
      "outputs": []
    },
    {
      "cell_type": "code",
      "metadata": {
        "id": "vedKhJqMtHo3"
      },
      "source": [
        "print(e)"
      ],
      "execution_count": null,
      "outputs": []
    },
    {
      "cell_type": "code",
      "metadata": {
        "id": "tcp-sJhRtHmu"
      },
      "source": [
        "f=e.reshape(2,5)"
      ],
      "execution_count": null,
      "outputs": []
    },
    {
      "cell_type": "code",
      "metadata": {
        "id": "hSqR1bU4tLRT"
      },
      "source": [
        "print(f)"
      ],
      "execution_count": null,
      "outputs": []
    },
    {
      "cell_type": "code",
      "metadata": {
        "id": "RsQNi8WHtLOs"
      },
      "source": [
        "np.random.random((3,4))"
      ],
      "execution_count": null,
      "outputs": []
    },
    {
      "cell_type": "code",
      "metadata": {
        "id": "5JF_6DSCtO6y"
      },
      "source": [
        "np.random.randint(1,20,10)"
      ],
      "execution_count": null,
      "outputs": []
    },
    {
      "cell_type": "code",
      "metadata": {
        "id": "1hiI2riktOk0"
      },
      "source": [
        "np.random.randn(3)"
      ],
      "execution_count": null,
      "outputs": []
    },
    {
      "cell_type": "markdown",
      "metadata": {
        "id": "AoP14rWPtUi6"
      },
      "source": [
        "Gambar Kurva yang Dihasilkan"
      ]
    },
    {
      "cell_type": "code",
      "metadata": {
        "id": "3NOQ3tbrtOh9"
      },
      "source": [
        "x=np.linspace(1,10,20)\r\n",
        "y=x**2\r\n",
        "y2=x**3"
      ],
      "execution_count": null,
      "outputs": []
    },
    {
      "cell_type": "code",
      "metadata": {
        "id": "-kRdHLwdtc9J"
      },
      "source": [
        "print(x)"
      ],
      "execution_count": null,
      "outputs": []
    },
    {
      "cell_type": "code",
      "metadata": {
        "id": "yxX9tNDHtjdp"
      },
      "source": [
        "plt.figure()\r\n",
        "plt.plot(x,y,'m-^', label='Y1')\r\n",
        "plt.plot(x,y2,'c-o', label='Y2')\r\n",
        "plt.legend()\r\n",
        "plt.title('Contoh kurva Python')\r\n",
        "plt.xlabel('X')\r\n",
        "plt.ylabel('Y')\r\n",
        "plt.show()"
      ],
      "execution_count": null,
      "outputs": []
    },
    {
      "cell_type": "code",
      "metadata": {
        "id": "r967KfH0tkds"
      },
      "source": [
        ""
      ],
      "execution_count": null,
      "outputs": []
    },
    {
      "cell_type": "markdown",
      "metadata": {
        "id": "q9yp502atzFj"
      },
      "source": [
        "## **TUGAS 13 (Python for Pathloss Simulation)**"
      ]
    },
    {
      "cell_type": "markdown",
      "metadata": {
        "id": "wIrJwYk0wyGi"
      },
      "source": [
        "**Import Library**"
      ]
    },
    {
      "cell_type": "code",
      "metadata": {
        "id": "J0kCzlait52s"
      },
      "source": [
        "import numpy as np\r\n",
        "import matplotlib.pyplot as plt"
      ],
      "execution_count": 6,
      "outputs": []
    },
    {
      "cell_type": "markdown",
      "metadata": {
        "id": "grj-n9uSuxV_"
      },
      "source": [
        "**Fungsi COST 231**"
      ]
    },
    {
      "cell_type": "code",
      "metadata": {
        "id": "Mw9iTOBGuI2t"
      },
      "source": [
        "def cos(frek,tipe,ht,hr,d):\r\n",
        "  #frek = frekuensi (MHz)\r\n",
        "  #tipe = urban, suburban, open\r\n",
        "  #ht = tinggi tower (meter)\r\n",
        "  #hr = tinggi user (meter)\r\n",
        "  #d = jarak (meter)\r\n",
        "    if frek in range(150,1501):\r\n",
        "        Ca=69.55\r\n",
        "        Cb=26.16\r\n",
        "    elif frek in range(1501,2001):\r\n",
        "        Ca=46.3\r\n",
        "        Cb=33.9\r\n",
        "    \r\n",
        "    if tipe=='urban' :\r\n",
        "        Cm=0\r\n",
        "    elif tipe=='suburban' :\r\n",
        "        Cm= -2*((np.log10((frek/28)**2))-5.4)\r\n",
        "    elif tipe=='open' :\r\n",
        "        Cm= -4.78*(np.log10(frek))+18.33*(np.log10(frek))-40.94\r\n",
        "    else :\r\n",
        "        Cm='tipe salah'\r\n",
        "    \r\n",
        "    ahr = (1.1*np.log10(frek)-0.7)*hr-(1.56*np.log10(frek)-1.8)\r\n",
        "    Lp = Ca+(Cb*np.log10(frek))-(13.83*np.log(ht))-ahr+((44.9-6.55*np.log10(ht))*np.log10(d))-Cm\r\n",
        "    \r\n",
        "    return Lp"
      ],
      "execution_count": 7,
      "outputs": []
    },
    {
      "cell_type": "markdown",
      "metadata": {
        "id": "hqpBQHIUvGsi"
      },
      "source": [
        "**Menentukan Parameter**"
      ]
    },
    {
      "cell_type": "code",
      "metadata": {
        "id": "Y5smJTiuuIw3"
      },
      "source": [
        "tower = 80  #m\r\n",
        "user  = 1.5 #m\r\n",
        "dmin  = 200 #m\r\n",
        "dmax  = 700 #m\r\n",
        "N = 200     #titik\r\n",
        "d=np.random.randint(dmin,dmax,N)"
      ],
      "execution_count": 11,
      "outputs": []
    },
    {
      "cell_type": "markdown",
      "metadata": {
        "id": "afxgQ--evV1f"
      },
      "source": [
        "**Fungsi Urban**"
      ]
    },
    {
      "cell_type": "code",
      "metadata": {
        "id": "puJtuevIuUzW"
      },
      "source": [
        "def Urban():\r\n",
        "  f=1800 \r\n",
        "  loc='urban'\r\n",
        "  LpUrban=cos(f,loc,tower,user,d)\r\n",
        "  d_sort=d[np.argsort(d)]\r\n",
        "  Urban_sort=LpUrban[np.argsort(d)]\r\n",
        "  return d_sort,Urban_sort"
      ],
      "execution_count": 12,
      "outputs": []
    },
    {
      "cell_type": "markdown",
      "metadata": {
        "id": "qRVdvPobvbhE"
      },
      "source": [
        "**Fungsi Open**"
      ]
    },
    {
      "cell_type": "code",
      "metadata": {
        "id": "zrCoC391uUvL"
      },
      "source": [
        "def Open():\r\n",
        "  f=1800 \r\n",
        "  loc='open'\r\n",
        "  LpUrban=cos(f,loc,tower,user,d)\r\n",
        "  d_sort=d[np.argsort(d)]\r\n",
        "  Urban_sort=LpUrban[np.argsort(d)]\r\n",
        "  return d_sort,Urban_sort"
      ],
      "execution_count": 13,
      "outputs": []
    },
    {
      "cell_type": "markdown",
      "metadata": {
        "id": "P2LLpftuvfQI"
      },
      "source": [
        "**Fungsi Sub-urban**"
      ]
    },
    {
      "cell_type": "code",
      "metadata": {
        "id": "tKMxGyvkuUSa"
      },
      "source": [
        "def Suburban():\r\n",
        "  f=1800 \r\n",
        "  loc='suburban'\r\n",
        "  LpUrban=cos(f,loc,tower,user,d)\r\n",
        "  d_sort=d[np.argsort(d)]\r\n",
        "  Urban_sort=LpUrban[np.argsort(d)]\r\n",
        "  return d_sort,Urban_sort"
      ],
      "execution_count": 14,
      "outputs": []
    },
    {
      "cell_type": "markdown",
      "metadata": {
        "id": "ZYl6TNmBvnC9"
      },
      "source": [
        "**Fungsi Frekuensi X**"
      ]
    },
    {
      "cell_type": "code",
      "metadata": {
        "id": "aBC8DGqAua-Y"
      },
      "source": [
        "def frekuensix():\r\n",
        "  f=700 \r\n",
        "  loc='urban'\r\n",
        "  LpUrban=cos(f,loc,tower,user,d)\r\n",
        "  d_sort=d[np.argsort(d)]\r\n",
        "  Urban_sort=LpUrban[np.argsort(d)]\r\n",
        "  return d_sort,Urban_sort"
      ],
      "execution_count": 15,
      "outputs": []
    },
    {
      "cell_type": "markdown",
      "metadata": {
        "id": "X4YnmKuhvrsl"
      },
      "source": [
        "**Fungsi Frekuensi Y**"
      ]
    },
    {
      "cell_type": "code",
      "metadata": {
        "id": "yXB4JNkSua8I"
      },
      "source": [
        "def frekuensiy():\r\n",
        "  f=900 \r\n",
        "  loc='urban'\r\n",
        "  LpUrban=cos(f,loc,tower,user,d)\r\n",
        "  d_sort=d[np.argsort(d)]\r\n",
        "  Urban_sort=LpUrban[np.argsort(d)]\r\n",
        "  return d_sort,Urban_sort"
      ],
      "execution_count": 16,
      "outputs": []
    },
    {
      "cell_type": "markdown",
      "metadata": {
        "id": "jN1b4DyQvzWt"
      },
      "source": [
        "**Fungsi Frekuensi Z**"
      ]
    },
    {
      "cell_type": "code",
      "metadata": {
        "id": "UOCJynhtudzc"
      },
      "source": [
        "def frekuensiz():\r\n",
        "  f=1800 \r\n",
        "  loc='urban'\r\n",
        "  LpUrban=cos(f,loc,tower,user,d)\r\n",
        "  d_sort=d[np.argsort(d)]\r\n",
        "  Urban_sort=LpUrban[np.argsort(d)]\r\n",
        "  return d_sort,Urban_sort"
      ],
      "execution_count": 17,
      "outputs": []
    },
    {
      "cell_type": "code",
      "metadata": {
        "id": "tC8EQUvduhLx"
      },
      "source": [
        "x1,y1 = Urban()\r\n",
        "x2,y2 = Open()\r\n",
        "x3,y3 = Suburban()\r\n",
        "\r\n",
        "a1,b1 = frekuensix()\r\n",
        "a2,b2 = frekuensiy()\r\n",
        "a3,b3 = frekuensiz()"
      ],
      "execution_count": 18,
      "outputs": []
    },
    {
      "cell_type": "code",
      "metadata": {
        "colab": {
          "base_uri": "https://localhost:8080/",
          "height": 541
        },
        "id": "bCEidvHXuiCQ",
        "outputId": "933f8c18-55cc-451f-c14b-b3b02302bca0"
      },
      "source": [
        "plt.figure()\r\n",
        "plt.plot(x1,y1,'c', label='Urban')\r\n",
        "plt.plot(x2,y2,'m', label='Open')\r\n",
        "plt.plot(x3,y3,'b', label='Sub Urban')\r\n",
        "plt.legend()\r\n",
        "plt.xlabel('Jarak (m)')\r\n",
        "plt.ylabel('Path Loss (dB)')\r\n",
        "plt.show()\r\n",
        "\r\n",
        "plt.figure()\r\n",
        "plt.plot(a1,b1,'c', label='700 Mhz')\r\n",
        "plt.plot(a2,b2,'m', label='900 Mhz')\r\n",
        "plt.plot(a3,b3,'b', label='1800 Mhz')\r\n",
        "plt.legend()\r\n",
        "plt.xlabel('Jarak (m)')\r\n",
        "plt.ylabel('Path Loss (dB)')\r\n",
        "plt.show()"
      ],
      "execution_count": 19,
      "outputs": [
        {
          "output_type": "display_data",
          "data": {
            "image/png": "[encoded data removed]",
            "text/plain": [
              "<Figure size 432x288 with 1 Axes>"
            ]
          },
          "metadata": {
            "tags": [],
            "needs_background": "light"
          }
        },
        {
          "output_type": "display_data",
          "data": {
            "image/png": "[encoded data removed]",
            "text/plain": [
              "<Figure size 432x288 with 1 Axes>"
            ]
          },
          "metadata": {
            "tags": [],
            "needs_background": "light"
          }
        }
      ]
    }
  ]
}